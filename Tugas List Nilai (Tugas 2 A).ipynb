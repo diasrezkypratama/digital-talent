{
 "cells": [
  {
   "cell_type": "code",
   "execution_count": 1,
   "metadata": {},
   "outputs": [
    {
     "name": "stdout",
     "output_type": "stream",
     "text": [
      "[90, 81, 2, 39, 20, 51, 96, 32, 48, 84, 39, 57, 66, 87, 89, 59, 9, 98, 20, 9, 70, 56, 76, 48, 50, 3, 53, 12, 42, 97, 75, 35, 57, 44, 86, 57, 93, 32, 23, 73, 28, 87, 45, 7, 93, 46, 38, 69, 41, 81, 83, 9, 15, 45, 50, 24, 16, 18, 80, 64, 70, 43, 83, 13, 82, 57, 22, 75, 16, 43, 73, 1, 79, 7, 21, 37, 16, 97, 72, 66, 3, 78, 19, 1, 70, 98, 14, 10, 15, 83, 87, 9, 7, 25, 35, 59, 17, 20, 5, 23, 6, 97, 41, 30, 13, 74, 74, 27, 43, 8, 82, 37, 21, 60, 2, 27, 16, 35, 68, 5, 25, 98, 20, 6, 9, 55, 71, 18, 82, 49, 69, 79, 32, 37, 88, 10, 50, 61, 29, 19, 20, 87, 97, 16, 46, 93, 42, 91, 31, 1, 66, 60, 19, 63, 11, 10, 78, 78, 35, 58, 36, 49, 91, 59, 76, 13, 25, 90, 44, 59, 93, 30, 98, 86, 49, 41, 11, 15, 94, 7, 94, 73, 9, 84, 94, 75, 31, 38, 41, 44, 22, 44, 56, 50, 60, 12, 6, 36, 92, 88, 10, 52, 76, 43, 81, 39, 86, 12, 73, 14, 1, 8, 5, 74, 4, 89, 80, 51, 10, 71, 84, 5, 44, 43, 43, 35, 18, 39, 9, 15, 64, 50, 13, 43, 42, 13, 73, 13, 68, 42, 4, 81, 79, 42, 86, 43, 23, 27, 60, 25]\n"
     ]
    }
   ],
   "source": [
    "import random\n",
    "\n",
    "# GENERATE RANDOM\n",
    "nilaiTugas = []\n",
    "for i in range(250):\n",
    "    nilaiTugas.append(random.randrange(1,100,1))\n",
    "\n",
    "print(nilaiTugas)"
   ]
  },
  {
   "cell_type": "markdown",
   "metadata": {},
   "source": [
    "### 1. Tampilkan Nilai Ganjil pada List Nilai"
   ]
  },
  {
   "cell_type": "code",
   "execution_count": 2,
   "metadata": {},
   "outputs": [
    {
     "name": "stdout",
     "output_type": "stream",
     "text": [
      "[81, 39, 51, 39, 57, 87, 89, 59, 9, 9, 3, 53, 97, 75, 35, 57, 57, 93, 23, 73, 87, 45, 7, 93, 69, 41, 81, 83, 9, 15, 45, 43, 83, 13, 57, 75, 43, 73, 1, 79, 7, 21, 37, 97, 3, 19, 1, 15, 83, 87, 9, 7, 25, 35, 59, 17, 5, 23, 97, 41, 13, 27, 43, 37, 21, 27, 35, 5, 25, 9, 55, 71, 49, 69, 79, 37, 61, 29, 19, 87, 97, 93, 91, 31, 1, 19, 63, 11, 35, 49, 91, 59, 13, 25, 59, 93, 49, 41, 11, 15, 7, 73, 9, 75, 31, 41, 43, 81, 39, 73, 1, 5, 89, 51, 71, 5, 43, 43, 35, 39, 9, 15, 13, 43, 13, 73, 13, 81, 79, 43, 23, 27, 25]\n"
     ]
    }
   ],
   "source": [
    "nilaiGanjil = []\n",
    "for ganjil in nilaiTugas:\n",
    "    if ganjil % 2 == 1:\n",
    "        nilaiGanjil.append(ganjil)\n",
    "\n",
    "print(nilaiGanjil)"
   ]
  },
  {
   "cell_type": "markdown",
   "metadata": {},
   "source": [
    "### 2. Tampilkan Nilai Lebih Dari 70 di List Nilai"
   ]
  },
  {
   "cell_type": "code",
   "execution_count": 3,
   "metadata": {},
   "outputs": [
    {
     "name": "stdout",
     "output_type": "stream",
     "text": [
      "[90, 81, 96, 84, 87, 89, 98, 76, 97, 75, 86, 93, 73, 87, 93, 81, 83, 80, 83, 82, 75, 73, 79, 97, 72, 78, 98, 83, 87, 97, 74, 74, 82, 98, 71, 82, 79, 88, 87, 97, 93, 91, 78, 78, 91, 76, 90, 93, 98, 86, 94, 94, 73, 84, 94, 75, 92, 88, 76, 81, 86, 73, 74, 89, 80, 71, 84, 73, 81, 79, 86]\n"
     ]
    }
   ],
   "source": [
    "nilailebih70 = []\n",
    "for nilai in nilaiTugas:\n",
    "    if nilai > 70:\n",
    "        nilailebih70.append(nilai)\n",
    "\n",
    "print(nilailebih70)\n",
    "    "
   ]
  },
  {
   "cell_type": "markdown",
   "metadata": {},
   "source": [
    "### 3. Tentukan Standar Deviasi Dari List Nilai "
   ]
  },
  {
   "cell_type": "code",
   "execution_count": 40,
   "metadata": {},
   "outputs": [
    {
     "name": "stdout",
     "output_type": "stream",
     "text": [
      "Standar Deviasi dari List Nilai Tersebut adalah 29.395455703220513\n"
     ]
    }
   ],
   "source": [
    "jumlah = 0\n",
    "for nilai in nilaiTugas:\n",
    "    jumlah = jumlah + nilai\n",
    "\n",
    "rerata= jumlah/len(nilaiTugas)\n",
    "\n",
    "selisihkuadrat=0\n",
    "jumlahselisihkuadrat=0\n",
    "for nilai in nilaiTugas:\n",
    "    selisihkuadrat = (nilai - rerata)**2\n",
    "    jumlahselisihkuadrat = jumlahselisihkuadrat + selisihkuadrat\n",
    "    \n",
    "standarDeviasi = ((jumlahselisihkuadrat)/len(nilaiTugas)) ** 0.5\n",
    "print(\"Standar Deviasi dari List Nilai Tersebut adalah\", standarDeviasi)\n"
   ]
  },
  {
   "cell_type": "markdown",
   "metadata": {},
   "source": [
    "### 4. Tampilkan Nilai Minimum dan Maksimum pada List Nilai"
   ]
  },
  {
   "cell_type": "code",
   "execution_count": 60,
   "metadata": {},
   "outputs": [
    {
     "name": "stdout",
     "output_type": "stream",
     "text": [
      "Nilai Maksimum pada list nilai tersebut adalah  98\n",
      "Nilai Minimum pada list nilai tersebut adalah  1\n"
     ]
    }
   ],
   "source": [
    "maks=0\n",
    "mins=1\n",
    "for m in range(len(nilaiTugas)):\n",
    "    if nilaiTugas[m] > maks:\n",
    "        maks = nilaiTugas[m]\n",
    "    elif nilaiTugas[m]<mins:\n",
    "        mins = nilaiTugas[m]\n",
    "print(\"Nilai Maksimum pada list nilai tersebut adalah \",maks)\n",
    "print(\"Nilai Minimum pada list nilai tersebut adalah \",mins)"
   ]
  },
  {
   "cell_type": "markdown",
   "metadata": {},
   "source": [
    "### 5. Tampilkan Modus pada List Nilai "
   ]
  },
  {
   "cell_type": "code",
   "execution_count": 56,
   "metadata": {},
   "outputs": [
    {
     "name": "stdout",
     "output_type": "stream",
     "text": [
      "Modus Pada List Nilai tersebut adalah 43 dengan Kemunculan Sebanyak 8 kali\n"
     ]
    }
   ],
   "source": [
    "frek=0\n",
    "modus={}\n",
    "\n",
    "for nilai in nilaiTugas:\n",
    "    hitung = nilaiTugas.count(nilai)\n",
    "    modus.update({nilai:hitung})\n",
    "    \n",
    "for key in modus:\n",
    "    if modus[key]>frek:\n",
    "        frek=modus[key]\n",
    "        \n",
    "for key in modus:\n",
    "    if modus[key]==frek:\n",
    "        print(\"Modus Pada List Nilai tersebut adalah\", key, \"dengan Kemunculan Sebanyak\", frek, \"kali\")"
   ]
  },
  {
   "cell_type": "code",
   "execution_count": null,
   "metadata": {},
   "outputs": [],
   "source": []
  }
 ],
 "metadata": {
  "kernelspec": {
   "display_name": "Python 3",
   "language": "python",
   "name": "python3"
  },
  "language_info": {
   "codemirror_mode": {
    "name": "ipython",
    "version": 3
   },
   "file_extension": ".py",
   "mimetype": "text/x-python",
   "name": "python",
   "nbconvert_exporter": "python",
   "pygments_lexer": "ipython3",
   "version": "3.7.0"
  }
 },
 "nbformat": 4,
 "nbformat_minor": 2
}
