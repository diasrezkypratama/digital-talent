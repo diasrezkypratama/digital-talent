{
 "cells": [
  {
   "cell_type": "markdown",
   "metadata": {},
   "source": [
    "# Masukkan Tinggi Badan Anda:"
   ]
  },
  {
   "cell_type": "code",
   "execution_count": 5,
   "metadata": {},
   "outputs": [],
   "source": [
    "tinggi = 170 #dalam satuan Centimeter"
   ]
  },
  {
   "cell_type": "markdown",
   "metadata": {},
   "source": [
    "# Masukkan Berat Badan Anda:"
   ]
  },
  {
   "cell_type": "code",
   "execution_count": 6,
   "metadata": {},
   "outputs": [],
   "source": [
    "berat = 60 #dalam satuan Kilogram"
   ]
  },
  {
   "cell_type": "code",
   "execution_count": 7,
   "metadata": {},
   "outputs": [
    {
     "name": "stdout",
     "output_type": "stream",
     "text": [
      "20.761245674740486\n"
     ]
    }
   ],
   "source": [
    "tinggiDalamMeter = tinggi * 0.01\n",
    "bmi = berat / tinggiDalamMeter ** 2\n",
    "print(bmi)"
   ]
  },
  {
   "cell_type": "code",
   "execution_count": 8,
   "metadata": {},
   "outputs": [
    {
     "name": "stdout",
     "output_type": "stream",
     "text": [
      "Berat Badan Anda Termasuk Kategori Normal \n"
     ]
    }
   ],
   "source": [
    "if bmi <= 15:\n",
    "    print('Berat Badan Anda Termasuk Kategori Very Severely')\n",
    "elif 15 < bmi <= 16:\n",
    "    print('Berat Badan Anda Termasuk Kategori Severely Underweight')\n",
    "elif 16 < bmi <= 18:\n",
    "    print('Berat Badan Anda Termasuk Kategori Underweight')\n",
    "elif 18 < bmi <= 25:\n",
    "    print('Berat Badan Anda Termasuk Kategori Normal ')\n",
    "elif 25 < bmi <= 30:\n",
    "    print('Berat Badan Anda Termasuk Kategori Overweight')\n",
    "elif 30 < bmi <= 35:\n",
    "    print('Berat Badan Anda Termasuk Kategori Moderately Obese')\n",
    "elif 35 < bmi <= 40:\n",
    "    print('Berat Badan Anda Termasuk Kategori Severely Obese')\n",
    "else:\n",
    "    print('Berat Badan Anda Termasuk Kategori Very Severely Obese')"
   ]
  },
  {
   "cell_type": "code",
   "execution_count": null,
   "metadata": {},
   "outputs": [],
   "source": []
  }
 ],
 "metadata": {
  "kernelspec": {
   "display_name": "Python 3",
   "language": "python",
   "name": "python3"
  },
  "language_info": {
   "codemirror_mode": {
    "name": "ipython",
    "version": 3
   },
   "file_extension": ".py",
   "mimetype": "text/x-python",
   "name": "python",
   "nbconvert_exporter": "python",
   "pygments_lexer": "ipython3",
   "version": "3.7.0"
  }
 },
 "nbformat": 4,
 "nbformat_minor": 2
}
